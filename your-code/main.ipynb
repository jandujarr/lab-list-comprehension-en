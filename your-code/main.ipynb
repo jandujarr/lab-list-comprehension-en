{
 "cells": [
  {
   "cell_type": "markdown",
   "metadata": {},
   "source": [
    "# List Comprehensions\n",
    "\n",
    "Complete the following set of exercises to solidify your knowledge of list comprehensions."
   ]
  },
  {
   "cell_type": "code",
   "execution_count": 12,
   "metadata": {},
   "outputs": [],
   "source": [
    "import os"
   ]
  },
  {
   "cell_type": "markdown",
   "metadata": {},
   "source": [
    "#### 1. Use a list comprehension to create and print a list of consecutive integers starting with 1 and ending with 50."
   ]
  },
  {
   "cell_type": "code",
   "execution_count": 13,
   "metadata": {},
   "outputs": [
    {
     "name": "stdout",
     "output_type": "stream",
     "text": [
      "[1, 2, 3, 4, 5, 6, 7, 8, 9, 10, 11, 12, 13, 14, 15, 16, 17, 18, 19, 20, 21, 22, 23, 24, 25, 26, 27, 28, 29, 30, 31, 32, 33, 34, 35, 36, 37, 38, 39, 40, 41, 42, 43, 44, 45, 46, 47, 48, 49, 50]\n"
     ]
    }
   ],
   "source": [
    "consecutive_integers = [number for number in range(1, 51)]\n",
    "print(consecutive_integers)"
   ]
  },
  {
   "cell_type": "markdown",
   "metadata": {},
   "source": [
    "#### 2. Use a list comprehension to create and print a list of even numbers starting with 2 and ending with 200."
   ]
  },
  {
   "cell_type": "code",
   "execution_count": 14,
   "metadata": {},
   "outputs": [
    {
     "name": "stdout",
     "output_type": "stream",
     "text": [
      "[2, 4, 6, 8, 10, 12, 14, 16, 18, 20, 22, 24, 26, 28, 30, 32, 34, 36, 38, 40, 42, 44, 46, 48, 50, 52, 54, 56, 58, 60, 62, 64, 66, 68, 70, 72, 74, 76, 78, 80, 82, 84, 86, 88, 90, 92, 94, 96, 98, 100, 102, 104, 106, 108, 110, 112, 114, 116, 118, 120, 122, 124, 126, 128, 130, 132, 134, 136, 138, 140, 142, 144, 146, 148, 150, 152, 154, 156, 158, 160, 162, 164, 166, 168, 170, 172, 174, 176, 178, 180, 182, 184, 186, 188, 190, 192, 194, 196, 198, 200]\n"
     ]
    }
   ],
   "source": [
    "even_numbers = [number for number in range(2, 201, 2)]\n",
    "print(even_numbers)"
   ]
  },
  {
   "cell_type": "markdown",
   "metadata": {},
   "source": [
    "#### 3. Use a list comprehension to create and print a list containing all elements of the 10 x 4 array below."
   ]
  },
  {
   "cell_type": "code",
   "execution_count": 15,
   "metadata": {},
   "outputs": [],
   "source": [
    "array_2d = [\n",
    "    [1, 2, 3, 4],\n",
    "    [5, 6, 7, 8],\n",
    "    [9, 10, 11, 12],\n",
    "    [13, 14, 15, 16],\n",
    "    [17, 18, 19, 20],\n",
    "    [21, 22, 23, 24],\n",
    "    [25, 26, 27, 28],\n",
    "    [29, 30, 31, 32],\n",
    "    [33, 34, 35, 36],\n",
    "    [37, 38, 39, 40]\n",
    "]"
   ]
  },
  {
   "cell_type": "code",
   "execution_count": 16,
   "metadata": {},
   "outputs": [
    {
     "name": "stdout",
     "output_type": "stream",
     "text": [
      "[1, 2, 3, 4, 5, 6, 7, 8, 9, 10, 11, 12, 13, 14, 15, 16, 17, 18, 19, 20, 21, 22, 23, 24, 25, 26, 27, 28, 29, 30, 31, 32, 33, 34, 35, 36, 37, 38, 39, 40]\n"
     ]
    }
   ],
   "source": [
    "flattened_list = [element for row in array_2d for element in row]\n",
    "print(flattened_list)"
   ]
  },
  {
   "cell_type": "markdown",
   "metadata": {},
   "source": [
    "#### 4. Add a condition to the list comprehension above so that only values greater than or equal to 0.5 are printed."
   ]
  },
  {
   "cell_type": "code",
   "execution_count": 17,
   "metadata": {},
   "outputs": [],
   "source": [
    "#your code here"
   ]
  },
  {
   "cell_type": "markdown",
   "metadata": {},
   "source": [
    "#### 5. Use a list comprehension to create and print a list containing all elements of the 5 x 2 x 3 array below."
   ]
  },
  {
   "cell_type": "code",
   "execution_count": 18,
   "metadata": {},
   "outputs": [
    {
     "name": "stdout",
     "output_type": "stream",
     "text": [
      "[0.7, 0.8, 0.9, 0.5, 0.6, 0.8, 0.9, 0.5, 0.5, 0.8, 0.7, 0.9, 0.6, 0.5, 0.5, 0.7, 0.8, 0.9, 0.7, 0.6, 0.5, 0.9, 0.7]\n"
     ]
    }
   ],
   "source": [
    "array_2d = [\n",
    "    [0.1, 0.7, 0.3, 0.8],\n",
    "    [0.4, 0.9, 0.5, 0.2],\n",
    "    [0.6, 0.1, 0.4, 0.8],\n",
    "    [0.9, 0.07, 0.3, 0.5],\n",
    "    [0.1, 0.5, 0.8, 0.2],\n",
    "    [0.7, 0.9, 0.6, 0.3],\n",
    "    [0.2, 0.1, 0.5, 0.4],\n",
    "    [0.5, 0.7, 0.8, 0.9],\n",
    "    [0.7, 0.2, 0.4, 0.6],\n",
    "    [0.5, 0.3, 0.9, 0.7]\n",
    "]\n",
    "\n",
    "# Using a list comprehension with a condition\n",
    "filtered_flattened_list = [element for row in array_2d for element in row if element >= 0.5]\n",
    "print(filtered_flattened_list)"
   ]
  },
  {
   "cell_type": "code",
   "execution_count": 19,
   "metadata": {},
   "outputs": [
    {
     "name": "stdout",
     "output_type": "stream",
     "text": [
      "[0.1, 0.7, 0.3, 0.8, 0.4, 0.9, 0.5, 0.2, 0.6, 0.1, 0.4, 0.8, 0.9, 0.07, 0.3, 0.5, 0.1, 0.5, 0.8, 0.2, 0.7, 0.9, 0.6, 0.3, 0.2, 0.1, 0.5, 0.4, 0.5, 0.7, 0.8, 0.9, 0.7, 0.2, 0.4, 0.6, 0.5, 0.3, 0.9, 0.7]\n"
     ]
    }
   ],
   "source": [
    "flattened_list = [element for row in array_2d for element in row]\n",
    "print(flattened_list)"
   ]
  },
  {
   "cell_type": "markdown",
   "metadata": {},
   "source": [
    "#### 6. Add a condition to the list comprehension above so that the last value in each subarray is printed, but only if it is less than or equal to 0.5."
   ]
  },
  {
   "cell_type": "code",
   "execution_count": 20,
   "metadata": {},
   "outputs": [
    {
     "name": "stdout",
     "output_type": "stream",
     "text": [
      "[0.2, 0.5, 0.2, 0.3, 0.4]\n"
     ]
    }
   ],
   "source": [
    "array_2d = [\n",
    "    [0.1, 0.7, 0.3, 0.8],\n",
    "    [0.4, 0.9, 0.5, 0.2],\n",
    "    [0.6, 0.1, 0.4, 0.8],\n",
    "    [0.9, 0.07, 0.3, 0.5],\n",
    "    [0.1, 0.5, 0.8, 0.2],\n",
    "    [0.7, 0.9, 0.6, 0.3],\n",
    "    [0.2, 0.1, 0.5, 0.4],\n",
    "    [0.5, 0.7, 0.8, 0.9],\n",
    "    [0.7, 0.2, 0.4, 0.6],\n",
    "    [0.5, 0.3, 0.9, 0.7]\n",
    "]\n",
    "\n",
    "# Extracting the last value in each subarray only if it's less than or equal to 0.5\n",
    "last_values_filtered = [row[-1] for row in array_2d if row[-1] <= 0.5]\n",
    "print(last_values_filtered)"
   ]
  },
  {
   "cell_type": "markdown",
   "metadata": {},
   "source": [
    "### Bonus"
   ]
  },
  {
   "cell_type": "markdown",
   "metadata": {},
   "source": [
    "Try to solve these katas using list comprehensions."
   ]
  },
  {
   "cell_type": "markdown",
   "metadata": {},
   "source": [
    "**Easy**\n",
    "- [Insert values](https://www.codewars.com/kata/invert-values)\n",
    "- [Sum Square(n)](https://www.codewars.com/kata/square-n-sum)\n",
    "- [Digitize](https://www.codewars.com/kata/digitize)\n",
    "- [List filtering](https://www.codewars.com/kata/list-filtering)\n",
    "- [Arithmetic list](https://www.codewars.com/kata/541da001259d9ca85d000688)\n",
    "\n",
    "**Medium**\n",
    "- [Multiples of 3 or 5](https://www.codewars.com/kata/514b92a657cdc65150000006)\n",
    "- [Count of positives / sum of negatives](https://www.codewars.com/kata/count-of-positives-slash-sum-of-negatives)\n",
    "- [Categorize new member](https://www.codewars.com/kata/5502c9e7b3216ec63c0001aa)\n",
    "\n",
    "**Advanced**\n",
    "- [Queue time counter](https://www.codewars.com/kata/queue-time-counter)"
   ]
  }
 ],
 "metadata": {
  "kernelspec": {
   "display_name": "base",
   "language": "python",
   "name": "python3"
  },
  "language_info": {
   "codemirror_mode": {
    "name": "ipython",
    "version": 3
   },
   "file_extension": ".py",
   "mimetype": "text/x-python",
   "name": "python",
   "nbconvert_exporter": "python",
   "pygments_lexer": "ipython3",
   "version": "3.12.7"
  }
 },
 "nbformat": 4,
 "nbformat_minor": 2
}
